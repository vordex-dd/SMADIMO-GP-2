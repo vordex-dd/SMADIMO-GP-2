{
 "cells": [
  {
   "cell_type": "code",
   "execution_count": 1,
   "metadata": {
    "id": "IGLFJiaqYcI3"
   },
   "outputs": [],
   "source": [
    "import json\n",
    "import pandas as pd\n",
    "import numpy as np"
   ]
  },
  {
   "cell_type": "code",
   "execution_count": 2,
   "metadata": {
    "colab": {
     "base_uri": "https://localhost:8080/"
    },
    "id": "V2t0GiPJYb87",
    "outputId": "fac5d30f-6939-45c6-da92-41adcea6ee55"
   },
   "outputs": [
    {
     "name": "stderr",
     "output_type": "stream",
     "text": [
      "\"wget\" ­Ґ пў«пҐвбп ў­гваҐ­­Ґ© Ё«Ё ў­Ґи­Ґ©\n",
      "Є®¬ ­¤®©, ЁбЇ®«­пҐ¬®© Їа®Ја ¬¬®© Ё«Ё Ї ЄҐв­л¬ д ©«®¬.\n",
      "\"wget\" ­Ґ пў«пҐвбп ў­гваҐ­­Ґ© Ё«Ё ў­Ґи­Ґ©\n",
      "Є®¬ ­¤®©, ЁбЇ®«­пҐ¬®© Їа®Ја ¬¬®© Ё«Ё Ї ЄҐв­л¬ д ©«®¬.\n",
      "\"wget\" ­Ґ пў«пҐвбп ў­гваҐ­­Ґ© Ё«Ё ў­Ґи­Ґ©\n",
      "Є®¬ ­¤®©, ЁбЇ®«­пҐ¬®© Їа®Ја ¬¬®© Ё«Ё Ї ЄҐв­л¬ д ©«®¬.\n",
      "\"wget\" ­Ґ пў«пҐвбп ў­гваҐ­­Ґ© Ё«Ё ў­Ґи­Ґ©\n",
      "Є®¬ ­¤®©, ЁбЇ®«­пҐ¬®© Їа®Ја ¬¬®© Ё«Ё Ї ЄҐв­л¬ д ©«®¬.\n",
      "\"wget\" ­Ґ пў«пҐвбп ў­гваҐ­­Ґ© Ё«Ё ў­Ґи­Ґ©\n",
      "Є®¬ ­¤®©, ЁбЇ®«­пҐ¬®© Їа®Ја ¬¬®© Ё«Ё Ї ЄҐв­л¬ д ©«®¬.\n"
     ]
    }
   ],
   "source": [
    "!wget https://raw.githubusercontent.com/vordex-dd/SMADIMO-GP-2/refs/heads/main/parsed_data/stepik_courses.json\n",
    "!wget https://raw.githubusercontent.com/vordex-dd/SMADIMO-GP-2/refs/heads/main/parsed_data/coursera_courses.json\n",
    "!wget https://raw.githubusercontent.com/vordex-dd/SMADIMO-GP-2/refs/heads/main/parsed_data/coursera_instructors.json\n",
    "!wget https://raw.githubusercontent.com/vordex-dd/SMADIMO-GP-2/refs/heads/main/parsed_data/coursera_partners.json\n",
    "!wget https://raw.githubusercontent.com/vordex-dd/SMADIMO-GP-2/refs/heads/main/parsed_data/practicum_courses.json"
   ]
  },
  {
   "cell_type": "code",
   "execution_count": 6,
   "metadata": {
    "id": "Hl3nzSJRamvO"
   },
   "outputs": [],
   "source": [
    "df_stepik = pd.read_json('../parsed_data/stepik_courses.json', lines=True)\n",
    "df_coursera_courses = pd.read_json('../parsed_data/coursera_courses.json')\n",
    "df_coursera_instructors = pd.read_json('../parsed_data/coursera_instructors.json')\n",
    "df_coursera_partners = pd.read_json('../parsed_data/coursera_partners.json')\n",
    "df_practicum = pd.read_json('../parsed_data/practicum_courses.json')"
   ]
  },
  {
   "cell_type": "code",
   "execution_count": 7,
   "metadata": {
    "id": "bc_FpN6hepeF"
   },
   "outputs": [],
   "source": [
    "df_coursera_courses.loc[:, 'primaryLanguages'] = df_coursera_courses['primaryLanguages'].apply(lambda x: x[0])"
   ]
  },
  {
   "cell_type": "code",
   "execution_count": 8,
   "metadata": {
    "id": "lUR5777ahnYa"
   },
   "outputs": [],
   "source": [
    "df_coursera_courses['source'] = 'coursera'\n",
    "df_coursera_courses['is_paid'] = False"
   ]
  },
  {
   "cell_type": "code",
   "execution_count": 9,
   "metadata": {
    "id": "l3aYn9OzhvRD"
   },
   "outputs": [],
   "source": [
    "df_stepik['source'] = 'stepik'"
   ]
  },
  {
   "cell_type": "code",
   "execution_count": 10,
   "metadata": {
    "colab": {
     "base_uri": "https://localhost:8080/"
    },
    "id": "3jYhptErfngL",
    "outputId": "5d2345c9-7520-4060-997e-20f7c044f10d"
   },
   "outputs": [],
   "source": [
    "df_stepik.loc[:, 'id'] = df_stepik['id'].astype(str)"
   ]
  },
  {
   "cell_type": "code",
   "execution_count": 11,
   "metadata": {
    "colab": {
     "base_uri": "https://localhost:8080/",
     "height": 354
    },
    "id": "HOTLWAq5a_8S",
    "outputId": "f13876c6-ffeb-4ff2-83c1-65aae8efeddc"
   },
   "outputs": [
    {
     "data": {
      "text/html": [
       "<div>\n",
       "<style scoped>\n",
       "    .dataframe tbody tr th:only-of-type {\n",
       "        vertical-align: middle;\n",
       "    }\n",
       "\n",
       "    .dataframe tbody tr th {\n",
       "        vertical-align: top;\n",
       "    }\n",
       "\n",
       "    .dataframe thead th {\n",
       "        text-align: right;\n",
       "    }\n",
       "</style>\n",
       "<table border=\"1\" class=\"dataframe\">\n",
       "  <thead>\n",
       "    <tr style=\"text-align: right;\">\n",
       "      <th></th>\n",
       "      <th>courseType</th>\n",
       "      <th>description</th>\n",
       "      <th>id</th>\n",
       "      <th>slug</th>\n",
       "      <th>instructorIds</th>\n",
       "      <th>workload</th>\n",
       "      <th>primaryLanguages</th>\n",
       "      <th>partnerIds</th>\n",
       "      <th>name</th>\n",
       "      <th>source</th>\n",
       "      <th>is_paid</th>\n",
       "    </tr>\n",
       "  </thead>\n",
       "  <tbody>\n",
       "    <tr>\n",
       "      <th>0</th>\n",
       "      <td>v2.ondemand</td>\n",
       "      <td>This is a self-paced lab that takes place in t...</td>\n",
       "      <td>l31la3mKEe-zFg7heHyXOQ</td>\n",
       "      <td>googlecloud-getting-started-with-the-vertex-ai...</td>\n",
       "      <td>[22997770]</td>\n",
       "      <td>1 hour 30 minutes</td>\n",
       "      <td>en</td>\n",
       "      <td>[443]</td>\n",
       "      <td>Getting started with the Vertex AI Gemini 1.5 ...</td>\n",
       "      <td>coursera</td>\n",
       "      <td>False</td>\n",
       "    </tr>\n",
       "    <tr>\n",
       "      <th>1</th>\n",
       "      <td>v2.ondemand</td>\n",
       "      <td>This is a self-paced lab that takes place in t...</td>\n",
       "      <td>mukrVoSKEe-L8RKezlgehQ</td>\n",
       "      <td>googlecloud-securing-compute-engine-applicatio...</td>\n",
       "      <td>[22997770]</td>\n",
       "      <td>1 hour 30 minutes</td>\n",
       "      <td>en</td>\n",
       "      <td>[443]</td>\n",
       "      <td>Securing Compute Engine Applications and Resou...</td>\n",
       "      <td>coursera</td>\n",
       "      <td>False</td>\n",
       "    </tr>\n",
       "    <tr>\n",
       "      <th>2</th>\n",
       "      <td>v2.ondemand</td>\n",
       "      <td>À la fin de ce projet, vous aurez toutes les c...</td>\n",
       "      <td>DMkcgX7LEeyRTg6FtAvfBw</td>\n",
       "      <td>integrer-applications-dashboard-hootsuite</td>\n",
       "      <td>[26958800]</td>\n",
       "      <td>2 heures</td>\n",
       "      <td>fr</td>\n",
       "      <td>[565]</td>\n",
       "      <td>Intégrer des applications dans votre Dashboard...</td>\n",
       "      <td>coursera</td>\n",
       "      <td>False</td>\n",
       "    </tr>\n",
       "  </tbody>\n",
       "</table>\n",
       "</div>"
      ],
      "text/plain": [
       "    courseType                                        description  \\\n",
       "0  v2.ondemand  This is a self-paced lab that takes place in t...   \n",
       "1  v2.ondemand  This is a self-paced lab that takes place in t...   \n",
       "2  v2.ondemand  À la fin de ce projet, vous aurez toutes les c...   \n",
       "\n",
       "                       id                                               slug  \\\n",
       "0  l31la3mKEe-zFg7heHyXOQ  googlecloud-getting-started-with-the-vertex-ai...   \n",
       "1  mukrVoSKEe-L8RKezlgehQ  googlecloud-securing-compute-engine-applicatio...   \n",
       "2  DMkcgX7LEeyRTg6FtAvfBw          integrer-applications-dashboard-hootsuite   \n",
       "\n",
       "  instructorIds           workload primaryLanguages partnerIds  \\\n",
       "0    [22997770]  1 hour 30 minutes               en      [443]   \n",
       "1    [22997770]  1 hour 30 minutes               en      [443]   \n",
       "2    [26958800]           2 heures               fr      [565]   \n",
       "\n",
       "                                                name    source  is_paid  \n",
       "0  Getting started with the Vertex AI Gemini 1.5 ...  coursera    False  \n",
       "1  Securing Compute Engine Applications and Resou...  coursera    False  \n",
       "2  Intégrer des applications dans votre Dashboard...  coursera    False  "
      ]
     },
     "execution_count": 11,
     "metadata": {},
     "output_type": "execute_result"
    }
   ],
   "source": [
    "df_coursera_courses.head(3)"
   ]
  },
  {
   "cell_type": "code",
   "execution_count": 12,
   "metadata": {
    "colab": {
     "base_uri": "https://localhost:8080/",
     "height": 470
    },
    "id": "ddoTfw5neEcj",
    "outputId": "7af7b9bd-bd2f-45e0-815a-e1ed8b0b4b29"
   },
   "outputs": [
    {
     "data": {
      "text/html": [
       "<div>\n",
       "<style scoped>\n",
       "    .dataframe tbody tr th:only-of-type {\n",
       "        vertical-align: middle;\n",
       "    }\n",
       "\n",
       "    .dataframe tbody tr th {\n",
       "        vertical-align: top;\n",
       "    }\n",
       "\n",
       "    .dataframe thead th {\n",
       "        text-align: right;\n",
       "    }\n",
       "</style>\n",
       "<table border=\"1\" class=\"dataframe\">\n",
       "  <thead>\n",
       "    <tr style=\"text-align: right;\">\n",
       "      <th></th>\n",
       "      <th>id</th>\n",
       "      <th>summary</th>\n",
       "      <th>workload</th>\n",
       "      <th>cover</th>\n",
       "      <th>intro</th>\n",
       "      <th>course_format</th>\n",
       "      <th>target_audience</th>\n",
       "      <th>certificate_footer</th>\n",
       "      <th>certificate_cover_org</th>\n",
       "      <th>is_certificate_issued</th>\n",
       "      <th>...</th>\n",
       "      <th>assistants_group</th>\n",
       "      <th>teachers_group</th>\n",
       "      <th>admins_group</th>\n",
       "      <th>discussions_count</th>\n",
       "      <th>discussion_proxy</th>\n",
       "      <th>discussion_threads</th>\n",
       "      <th>lti_consumer_key</th>\n",
       "      <th>lti_secret_key</th>\n",
       "      <th>lti_private_profile</th>\n",
       "      <th>source</th>\n",
       "    </tr>\n",
       "  </thead>\n",
       "  <tbody>\n",
       "    <tr>\n",
       "      <th>0</th>\n",
       "      <td>233488</td>\n",
       "      <td>Данный курс является учебным заданием в рамках...</td>\n",
       "      <td></td>\n",
       "      <td>https://cdn.stepik.net/media/cache/images/cour...</td>\n",
       "      <td></td>\n",
       "      <td></td>\n",
       "      <td></td>\n",
       "      <td>NaN</td>\n",
       "      <td>None</td>\n",
       "      <td>False</td>\n",
       "      <td>...</td>\n",
       "      <td>NaN</td>\n",
       "      <td>NaN</td>\n",
       "      <td>NaN</td>\n",
       "      <td>0</td>\n",
       "      <td>NaN</td>\n",
       "      <td>[]</td>\n",
       "      <td></td>\n",
       "      <td></td>\n",
       "      <td>False</td>\n",
       "      <td>stepik</td>\n",
       "    </tr>\n",
       "    <tr>\n",
       "      <th>1</th>\n",
       "      <td>233486</td>\n",
       "      <td>Данный курс раскроет перед Вами теорию указате...</td>\n",
       "      <td></td>\n",
       "      <td>https://cdn.stepik.net/media/cache/images/cour...</td>\n",
       "      <td></td>\n",
       "      <td></td>\n",
       "      <td>Курс для новичков в программировании, но кто у...</td>\n",
       "      <td>NaN</td>\n",
       "      <td>None</td>\n",
       "      <td>False</td>\n",
       "      <td>...</td>\n",
       "      <td>NaN</td>\n",
       "      <td>NaN</td>\n",
       "      <td>NaN</td>\n",
       "      <td>0</td>\n",
       "      <td>NaN</td>\n",
       "      <td>[]</td>\n",
       "      <td></td>\n",
       "      <td></td>\n",
       "      <td>False</td>\n",
       "      <td>stepik</td>\n",
       "    </tr>\n",
       "    <tr>\n",
       "      <th>2</th>\n",
       "      <td>233485</td>\n",
       "      <td>Основной идеей программы является создание усл...</td>\n",
       "      <td>4 ч в неделю</td>\n",
       "      <td>https://cdn.stepik.net/media/cache/images/cour...</td>\n",
       "      <td></td>\n",
       "      <td></td>\n",
       "      <td>Программа рекомендована для учащихся в возраст...</td>\n",
       "      <td>NaN</td>\n",
       "      <td>None</td>\n",
       "      <td>False</td>\n",
       "      <td>...</td>\n",
       "      <td>NaN</td>\n",
       "      <td>NaN</td>\n",
       "      <td>NaN</td>\n",
       "      <td>0</td>\n",
       "      <td>NaN</td>\n",
       "      <td>[]</td>\n",
       "      <td></td>\n",
       "      <td></td>\n",
       "      <td>False</td>\n",
       "      <td>stepik</td>\n",
       "    </tr>\n",
       "  </tbody>\n",
       "</table>\n",
       "<p>3 rows × 135 columns</p>\n",
       "</div>"
      ],
      "text/plain": [
       "       id                                            summary      workload  \\\n",
       "0  233488  Данный курс является учебным заданием в рамках...                 \n",
       "1  233486  Данный курс раскроет перед Вами теорию указате...                 \n",
       "2  233485  Основной идеей программы является создание усл...  4 ч в неделю   \n",
       "\n",
       "                                               cover intro course_format  \\\n",
       "0  https://cdn.stepik.net/media/cache/images/cour...                       \n",
       "1  https://cdn.stepik.net/media/cache/images/cour...                       \n",
       "2  https://cdn.stepik.net/media/cache/images/cour...                       \n",
       "\n",
       "                                     target_audience  certificate_footer  \\\n",
       "0                                                                    NaN   \n",
       "1  Курс для новичков в программировании, но кто у...                 NaN   \n",
       "2  Программа рекомендована для учащихся в возраст...                 NaN   \n",
       "\n",
       "  certificate_cover_org  is_certificate_issued  ...  assistants_group  \\\n",
       "0                  None                  False  ...               NaN   \n",
       "1                  None                  False  ...               NaN   \n",
       "2                  None                  False  ...               NaN   \n",
       "\n",
       "   teachers_group  admins_group discussions_count discussion_proxy  \\\n",
       "0             NaN           NaN                 0              NaN   \n",
       "1             NaN           NaN                 0              NaN   \n",
       "2             NaN           NaN                 0              NaN   \n",
       "\n",
       "  discussion_threads lti_consumer_key lti_secret_key  lti_private_profile  \\\n",
       "0                 []                                                False   \n",
       "1                 []                                                False   \n",
       "2                 []                                                False   \n",
       "\n",
       "   source  \n",
       "0  stepik  \n",
       "1  stepik  \n",
       "2  stepik  \n",
       "\n",
       "[3 rows x 135 columns]"
      ]
     },
     "execution_count": 12,
     "metadata": {},
     "output_type": "execute_result"
    }
   ],
   "source": [
    "df_stepik.head(3)"
   ]
  },
  {
   "cell_type": "code",
   "execution_count": 13,
   "metadata": {
    "colab": {
     "base_uri": "https://localhost:8080/",
     "height": 981
    },
    "id": "wNwSVyJud-BO",
    "outputId": "b70da75b-fe8f-4be8-f631-95f18f0dff6d"
   },
   "outputs": [
    {
     "data": {
      "text/html": [
       "<div>\n",
       "<style scoped>\n",
       "    .dataframe tbody tr th:only-of-type {\n",
       "        vertical-align: middle;\n",
       "    }\n",
       "\n",
       "    .dataframe tbody tr th {\n",
       "        vertical-align: top;\n",
       "    }\n",
       "\n",
       "    .dataframe thead th {\n",
       "        text-align: right;\n",
       "    }\n",
       "</style>\n",
       "<table border=\"1\" class=\"dataframe\">\n",
       "  <thead>\n",
       "    <tr style=\"text-align: right;\">\n",
       "      <th></th>\n",
       "      <th>course_type</th>\n",
       "      <th>summary</th>\n",
       "      <th>id</th>\n",
       "      <th>slug</th>\n",
       "      <th>instructors</th>\n",
       "      <th>workload</th>\n",
       "      <th>language</th>\n",
       "      <th>partnerIds</th>\n",
       "      <th>title</th>\n",
       "      <th>source</th>\n",
       "      <th>is_paid</th>\n",
       "    </tr>\n",
       "  </thead>\n",
       "  <tbody>\n",
       "    <tr>\n",
       "      <th>0</th>\n",
       "      <td>v2.ondemand</td>\n",
       "      <td>This is a self-paced lab that takes place in t...</td>\n",
       "      <td>l31la3mKEe-zFg7heHyXOQ</td>\n",
       "      <td>googlecloud-getting-started-with-the-vertex-ai...</td>\n",
       "      <td>[22997770]</td>\n",
       "      <td>1 hour 30 minutes</td>\n",
       "      <td>en</td>\n",
       "      <td>[443]</td>\n",
       "      <td>Getting started with the Vertex AI Gemini 1.5 ...</td>\n",
       "      <td>coursera</td>\n",
       "      <td>False</td>\n",
       "    </tr>\n",
       "    <tr>\n",
       "      <th>1</th>\n",
       "      <td>v2.ondemand</td>\n",
       "      <td>This is a self-paced lab that takes place in t...</td>\n",
       "      <td>mukrVoSKEe-L8RKezlgehQ</td>\n",
       "      <td>googlecloud-securing-compute-engine-applicatio...</td>\n",
       "      <td>[22997770]</td>\n",
       "      <td>1 hour 30 minutes</td>\n",
       "      <td>en</td>\n",
       "      <td>[443]</td>\n",
       "      <td>Securing Compute Engine Applications and Resou...</td>\n",
       "      <td>coursera</td>\n",
       "      <td>False</td>\n",
       "    </tr>\n",
       "    <tr>\n",
       "      <th>2</th>\n",
       "      <td>v2.ondemand</td>\n",
       "      <td>À la fin de ce projet, vous aurez toutes les c...</td>\n",
       "      <td>DMkcgX7LEeyRTg6FtAvfBw</td>\n",
       "      <td>integrer-applications-dashboard-hootsuite</td>\n",
       "      <td>[26958800]</td>\n",
       "      <td>2 heures</td>\n",
       "      <td>fr</td>\n",
       "      <td>[565]</td>\n",
       "      <td>Intégrer des applications dans votre Dashboard...</td>\n",
       "      <td>coursera</td>\n",
       "      <td>False</td>\n",
       "    </tr>\n",
       "    <tr>\n",
       "      <th>3</th>\n",
       "      <td>v2.ondemand</td>\n",
       "      <td>This course is an personal development and aca...</td>\n",
       "      <td>ecoAPNowEe22LAo38arT7w</td>\n",
       "      <td>overcoming-challenges-in-self-and-society</td>\n",
       "      <td>[5095820]</td>\n",
       "      <td>4 weeks of study, 2-4 hours a week</td>\n",
       "      <td>en</td>\n",
       "      <td>[126]</td>\n",
       "      <td>Overcoming  Challenges in Self and Society</td>\n",
       "      <td>coursera</td>\n",
       "      <td>False</td>\n",
       "    </tr>\n",
       "    <tr>\n",
       "      <th>4</th>\n",
       "      <td>v2.ondemand</td>\n",
       "      <td>ينشئ العديد من الأشخاص حسابات وسائط اجتماعية م...</td>\n",
       "      <td>YLO0oGSUEeyIUg4Qv2RsBQ</td>\n",
       "      <td>getting-started-with-hootsuite-ar</td>\n",
       "      <td>[76377122]</td>\n",
       "      <td>2 hours</td>\n",
       "      <td>ar</td>\n",
       "      <td>[565]</td>\n",
       "      <td>كيفية استعمال التطبيق هووتسويت</td>\n",
       "      <td>coursera</td>\n",
       "      <td>False</td>\n",
       "    </tr>\n",
       "    <tr>\n",
       "      <th>...</th>\n",
       "      <td>...</td>\n",
       "      <td>...</td>\n",
       "      <td>...</td>\n",
       "      <td>...</td>\n",
       "      <td>...</td>\n",
       "      <td>...</td>\n",
       "      <td>...</td>\n",
       "      <td>...</td>\n",
       "      <td>...</td>\n",
       "      <td>...</td>\n",
       "      <td>...</td>\n",
       "    </tr>\n",
       "    <tr>\n",
       "      <th>1995</th>\n",
       "      <td>v2.ondemand</td>\n",
       "      <td>In this course, students in the health and inf...</td>\n",
       "      <td>7vaR5WHIEei16BIJfVb6WA</td>\n",
       "      <td>leadership-interprofessional-informatics</td>\n",
       "      <td>[2608269, 5367767]</td>\n",
       "      <td></td>\n",
       "      <td>en</td>\n",
       "      <td>[50]</td>\n",
       "      <td>Leadership in Interprofessional Informatics</td>\n",
       "      <td>coursera</td>\n",
       "      <td>False</td>\n",
       "    </tr>\n",
       "    <tr>\n",
       "      <th>1996</th>\n",
       "      <td>v2.ondemand</td>\n",
       "      <td>This course will highlight the potential of qu...</td>\n",
       "      <td>HivnY-KfEeaKBwrG-FP2zg</td>\n",
       "      <td>quantitative-customer-insights</td>\n",
       "      <td>[24105098]</td>\n",
       "      <td></td>\n",
       "      <td>en</td>\n",
       "      <td>[17]</td>\n",
       "      <td>Customer Insights: Quantitative Techniques</td>\n",
       "      <td>coursera</td>\n",
       "      <td>False</td>\n",
       "    </tr>\n",
       "    <tr>\n",
       "      <th>1997</th>\n",
       "      <td>v2.ondemand</td>\n",
       "      <td>Learn to program using Class design and 1-D Ar...</td>\n",
       "      <td>GH9_ESDwEeq_mhJRFB2jvw</td>\n",
       "      <td>teach-java-classes-arrays</td>\n",
       "      <td>[23635461]</td>\n",
       "      <td></td>\n",
       "      <td>en</td>\n",
       "      <td>[53]</td>\n",
       "      <td>Learn to Teach Java:  Writing Classes and Arrays</td>\n",
       "      <td>coursera</td>\n",
       "      <td>False</td>\n",
       "    </tr>\n",
       "    <tr>\n",
       "      <th>1998</th>\n",
       "      <td>v2.ondemand</td>\n",
       "      <td>This course provides a comprehensive understan...</td>\n",
       "      <td>y9OwRvV5Ee6fxBKHZHPURQ</td>\n",
       "      <td>factory-automation-shaping-the-future-of-manuf...</td>\n",
       "      <td>[151855947, 141793623]</td>\n",
       "      <td>4 Hours</td>\n",
       "      <td>en</td>\n",
       "      <td>[1510]</td>\n",
       "      <td>Factory Automation: Shaping the Future of Manu...</td>\n",
       "      <td>coursera</td>\n",
       "      <td>False</td>\n",
       "    </tr>\n",
       "    <tr>\n",
       "      <th>1999</th>\n",
       "      <td>v2.ondemand</td>\n",
       "      <td>This course is designed to provide the SMP/E s...</td>\n",
       "      <td>ya295pQaEey5lA4z0b06iw</td>\n",
       "      <td>smpe-for-zos-workshop</td>\n",
       "      <td>[42898508]</td>\n",
       "      <td></td>\n",
       "      <td>en</td>\n",
       "      <td>[1207]</td>\n",
       "      <td>SMP/E for z/OS Workshop</td>\n",
       "      <td>coursera</td>\n",
       "      <td>False</td>\n",
       "    </tr>\n",
       "  </tbody>\n",
       "</table>\n",
       "<p>2000 rows × 11 columns</p>\n",
       "</div>"
      ],
      "text/plain": [
       "      course_type                                            summary  \\\n",
       "0     v2.ondemand  This is a self-paced lab that takes place in t...   \n",
       "1     v2.ondemand  This is a self-paced lab that takes place in t...   \n",
       "2     v2.ondemand  À la fin de ce projet, vous aurez toutes les c...   \n",
       "3     v2.ondemand  This course is an personal development and aca...   \n",
       "4     v2.ondemand  ينشئ العديد من الأشخاص حسابات وسائط اجتماعية م...   \n",
       "...           ...                                                ...   \n",
       "1995  v2.ondemand  In this course, students in the health and inf...   \n",
       "1996  v2.ondemand  This course will highlight the potential of qu...   \n",
       "1997  v2.ondemand  Learn to program using Class design and 1-D Ar...   \n",
       "1998  v2.ondemand  This course provides a comprehensive understan...   \n",
       "1999  v2.ondemand  This course is designed to provide the SMP/E s...   \n",
       "\n",
       "                          id  \\\n",
       "0     l31la3mKEe-zFg7heHyXOQ   \n",
       "1     mukrVoSKEe-L8RKezlgehQ   \n",
       "2     DMkcgX7LEeyRTg6FtAvfBw   \n",
       "3     ecoAPNowEe22LAo38arT7w   \n",
       "4     YLO0oGSUEeyIUg4Qv2RsBQ   \n",
       "...                      ...   \n",
       "1995  7vaR5WHIEei16BIJfVb6WA   \n",
       "1996  HivnY-KfEeaKBwrG-FP2zg   \n",
       "1997  GH9_ESDwEeq_mhJRFB2jvw   \n",
       "1998  y9OwRvV5Ee6fxBKHZHPURQ   \n",
       "1999  ya295pQaEey5lA4z0b06iw   \n",
       "\n",
       "                                                   slug  \\\n",
       "0     googlecloud-getting-started-with-the-vertex-ai...   \n",
       "1     googlecloud-securing-compute-engine-applicatio...   \n",
       "2             integrer-applications-dashboard-hootsuite   \n",
       "3             overcoming-challenges-in-self-and-society   \n",
       "4                     getting-started-with-hootsuite-ar   \n",
       "...                                                 ...   \n",
       "1995           leadership-interprofessional-informatics   \n",
       "1996                     quantitative-customer-insights   \n",
       "1997                          teach-java-classes-arrays   \n",
       "1998  factory-automation-shaping-the-future-of-manuf...   \n",
       "1999                              smpe-for-zos-workshop   \n",
       "\n",
       "                 instructors                            workload language  \\\n",
       "0                 [22997770]                   1 hour 30 minutes       en   \n",
       "1                 [22997770]                   1 hour 30 minutes       en   \n",
       "2                 [26958800]                            2 heures       fr   \n",
       "3                  [5095820]  4 weeks of study, 2-4 hours a week       en   \n",
       "4                 [76377122]                             2 hours       ar   \n",
       "...                      ...                                 ...      ...   \n",
       "1995      [2608269, 5367767]                                           en   \n",
       "1996              [24105098]                                           en   \n",
       "1997              [23635461]                                           en   \n",
       "1998  [151855947, 141793623]                            4 Hours        en   \n",
       "1999              [42898508]                                           en   \n",
       "\n",
       "     partnerIds                                              title    source  \\\n",
       "0         [443]  Getting started with the Vertex AI Gemini 1.5 ...  coursera   \n",
       "1         [443]  Securing Compute Engine Applications and Resou...  coursera   \n",
       "2         [565]  Intégrer des applications dans votre Dashboard...  coursera   \n",
       "3         [126]         Overcoming  Challenges in Self and Society  coursera   \n",
       "4         [565]                     كيفية استعمال التطبيق هووتسويت  coursera   \n",
       "...         ...                                                ...       ...   \n",
       "1995       [50]       Leadership in Interprofessional Informatics   coursera   \n",
       "1996       [17]         Customer Insights: Quantitative Techniques  coursera   \n",
       "1997       [53]   Learn to Teach Java:  Writing Classes and Arrays  coursera   \n",
       "1998     [1510]  Factory Automation: Shaping the Future of Manu...  coursera   \n",
       "1999     [1207]                            SMP/E for z/OS Workshop  coursera   \n",
       "\n",
       "      is_paid  \n",
       "0       False  \n",
       "1       False  \n",
       "2       False  \n",
       "3       False  \n",
       "4       False  \n",
       "...       ...  \n",
       "1995    False  \n",
       "1996    False  \n",
       "1997    False  \n",
       "1998    False  \n",
       "1999    False  \n",
       "\n",
       "[2000 rows x 11 columns]"
      ]
     },
     "execution_count": 13,
     "metadata": {},
     "output_type": "execute_result"
    }
   ],
   "source": [
    "rename_coursera = {\n",
    "    'courseType': 'course_type',\n",
    "    'description': 'summary',\n",
    "    'instructorIds': 'instructors',\n",
    "    'primaryLanguages': 'language',\n",
    "    'name': 'title'\n",
    "}\n",
    "\n",
    "df_coursera_courses.rename(columns=rename_coursera, inplace=True)\n",
    "df_coursera_courses"
   ]
  },
  {
   "cell_type": "code",
   "execution_count": 14,
   "metadata": {
    "colab": {
     "base_uri": "https://localhost:8080/"
    },
    "id": "1XBz9TLZgjdl",
    "outputId": "ee5eb56d-c4cb-4d70-9c5d-2c57e0107674"
   },
   "outputs": [
    {
     "data": {
      "text/plain": [
       "(12044, 136)"
      ]
     },
     "execution_count": 14,
     "metadata": {},
     "output_type": "execute_result"
    }
   ],
   "source": [
    "df_stepik_coursera = pd.concat([df_stepik, df_coursera_courses], ignore_index=True)\n",
    "\n",
    "df_stepik_coursera.shape"
   ]
  },
  {
   "cell_type": "code",
   "execution_count": 15,
   "metadata": {
    "id": "VD7J1Sx1ig_M"
   },
   "outputs": [],
   "source": [
    "df_practicum['source'] = 'practicum'"
   ]
  },
  {
   "cell_type": "code",
   "execution_count": 16,
   "metadata": {
    "colab": {
     "base_uri": "https://localhost:8080/",
     "height": 206
    },
    "id": "ikwkweiPil2j",
    "outputId": "db8d1190-91e9-48cf-a1e0-d1c1a8046f56"
   },
   "outputs": [
    {
     "data": {
      "text/html": [
       "<div>\n",
       "<style scoped>\n",
       "    .dataframe tbody tr th:only-of-type {\n",
       "        vertical-align: middle;\n",
       "    }\n",
       "\n",
       "    .dataframe tbody tr th {\n",
       "        vertical-align: top;\n",
       "    }\n",
       "\n",
       "    .dataframe thead th {\n",
       "        text-align: right;\n",
       "    }\n",
       "</style>\n",
       "<table border=\"1\" class=\"dataframe\">\n",
       "  <thead>\n",
       "    <tr style=\"text-align: right;\">\n",
       "      <th></th>\n",
       "      <th>tags</th>\n",
       "      <th>title</th>\n",
       "      <th>card_price</th>\n",
       "      <th>full_price</th>\n",
       "      <th>source</th>\n",
       "    </tr>\n",
       "  </thead>\n",
       "  <tbody>\n",
       "    <tr>\n",
       "      <th>0</th>\n",
       "      <td>[Программирование, С нуля]</td>\n",
       "      <td>Какую профессию выбрать в программировании</td>\n",
       "      <td>Бесплатно</td>\n",
       "      <td>None</td>\n",
       "      <td>practicum</td>\n",
       "    </tr>\n",
       "    <tr>\n",
       "      <th>1</th>\n",
       "      <td>[Кем стать в IT, С нуля]</td>\n",
       "      <td>Какую профессию выбрать в анализе данных</td>\n",
       "      <td>Бесплатно</td>\n",
       "      <td>None</td>\n",
       "      <td>practicum</td>\n",
       "    </tr>\n",
       "    <tr>\n",
       "      <th>2</th>\n",
       "      <td>[Кем стать в IT, С нуля]</td>\n",
       "      <td>Тест профориентации</td>\n",
       "      <td>Бесплатно</td>\n",
       "      <td>None</td>\n",
       "      <td>practicum</td>\n",
       "    </tr>\n",
       "    <tr>\n",
       "      <th>3</th>\n",
       "      <td>[Кем стать в IT, С нуля]</td>\n",
       "      <td>Cтарт в IT</td>\n",
       "      <td>Бесплатно</td>\n",
       "      <td>None</td>\n",
       "      <td>practicum</td>\n",
       "    </tr>\n",
       "    <tr>\n",
       "      <th>4</th>\n",
       "      <td>[Кем стать в IT, С нуля]</td>\n",
       "      <td>Какую профессию выбрать в маркетинге</td>\n",
       "      <td>Бесплатно</td>\n",
       "      <td>None</td>\n",
       "      <td>practicum</td>\n",
       "    </tr>\n",
       "  </tbody>\n",
       "</table>\n",
       "</div>"
      ],
      "text/plain": [
       "                         tags                                       title  \\\n",
       "0  [Программирование, С нуля]  Какую профессию выбрать в программировании   \n",
       "1    [Кем стать в IT, С нуля]    Какую профессию выбрать в анализе данных   \n",
       "2    [Кем стать в IT, С нуля]                         Тест профориентации   \n",
       "3    [Кем стать в IT, С нуля]                                  Cтарт в IT   \n",
       "4    [Кем стать в IT, С нуля]        Какую профессию выбрать в маркетинге   \n",
       "\n",
       "   card_price full_price     source  \n",
       "0  Бесплатно        None  practicum  \n",
       "1  Бесплатно        None  practicum  \n",
       "2  Бесплатно        None  practicum  \n",
       "3  Бесплатно        None  practicum  \n",
       "4  Бесплатно        None  practicum  "
      ]
     },
     "execution_count": 16,
     "metadata": {},
     "output_type": "execute_result"
    }
   ],
   "source": [
    "df_practicum.head()"
   ]
  },
  {
   "cell_type": "code",
   "execution_count": 17,
   "metadata": {
    "colab": {
     "base_uri": "https://localhost:8080/"
    },
    "id": "f-NW2eNwjlwz",
    "outputId": "7a1cb36f-2e0e-41d8-d1d2-1652dbdba2dc"
   },
   "outputs": [
    {
     "data": {
      "text/plain": [
       "array(['Бесплатно ', 'от 7561 ₽/мес ', 'от 11574 ₽/мес ',\n",
       "       'от 8179 ₽/мес ', 'от 11625 ₽/мес ', 'от 3960 ₽/мес ',\n",
       "       'от 7921 ₽/мес ', 'от 5452 ₽/мес ', 'от 6275 ₽/мес ',\n",
       "       'от 7613 ₽/мес ', 'от 7150 ₽/мес ', 'от 5915 ₽/мес ',\n",
       "       'от 5812 ₽/мес ', 'от 5967 ₽/мес ', 'от 5658 ₽/мес ',\n",
       "       'от 7098 ₽/мес ', 'от 6790 ₽/мес ', 'от 9053 ₽/мес ',\n",
       "       'от 7510 ₽/мес ', 'от 9259 ₽/мес ', 'от 3652 ₽/мес ',\n",
       "       'от 5401 ₽/мес ', 'от 4372 ₽/мес ', 'от 11317 ₽/мес ',\n",
       "       'от 7819 ₽/мес ', 'от 11831 ₽/мес ', 'от 7304 ₽/мес ',\n",
       "       'от 7870 ₽/мес ', 'от 5041 ₽/мес ', 'от 7253 ₽/мес ',\n",
       "       'от 7664 ₽/мес ', 'от 6224 ₽/мес ', 'от 6687 ₽/мес ',\n",
       "       'от 4784 ₽/мес ', 'от 5298 ₽/мес ', 'от 2263 ₽/мес ',\n",
       "       'от 4063 ₽/мес ', 'от 3909 ₽/мес ', 'от 3395 ₽/мес ',\n",
       "       'от 3292 ₽/мес ', 'от 8024 ₽/мес ', 'от 9979 ₽/мес ',\n",
       "       'от 10236 ₽/мес ', 'от 9928 ₽/мес ', 'от 2057 ₽/мес ',\n",
       "       'от 4732 ₽/мес ', 'от 8384 ₽/мес ', 'от 4475 ₽/мес ',\n",
       "       'от 3086 ₽/мес ', 'от 2572 ₽/мес ', 'от 4835 ₽/мес ',\n",
       "       'от 2160 ₽/мес ', 'от 8127 ₽/мес ', 'от 2777 ₽/мес ',\n",
       "       'от 1388 ₽/мес ', 'от 3703 ₽/мес ', 'от 9105 ₽/мес ',\n",
       "       'от 8744 ₽/мес ', 'от 1620 ₽/мес ', 'от 1080 ₽/мес ',\n",
       "       'от 1311 ₽/мес ', 'от 874 ₽/мес ', 'от 3240 ₽/мес ',\n",
       "       'от 3600 ₽/мес ', 'от 771 ₽/мес ', 'от 7587 ₽/мес ',\n",
       "       'от 4423 ₽/мес ', '8600 ₽/мес', '9900 ₽/мес', '18200 ₽/мес',\n",
       "       'от 4166 ₽/мес ', 'от 7201 ₽/мес ', 'от 5787 ₽/мес ',\n",
       "       'от 8899 ₽/мес ', 'от 7330 ₽/мес ', 'от 8693 ₽/мес ',\n",
       "       'от 6635 ₽/мес ', 'от 8796 ₽/мес ', 'от 2674 ₽/мес ',\n",
       "       'от 10391 ₽/мес ', 'от 11985 ₽/мес ', 'от 1543 ₽/мес ', None,\n",
       "       'от 5504 ₽/мес ', 'от 4938 ₽/мес ', 'от 10339 ₽/мес ',\n",
       "       'от 14403 ₽/мес ', 'от 514 ₽/мес ', 'от 7047 ₽/мес ',\n",
       "       'от 869 ₽/мес ', 'от 6172 ₽/мес ', 'от 7716 ₽/мес ',\n",
       "       'от 9568 ₽/мес ', 'от 7458 ₽/мес ', 'от 6430 ₽/мес '], dtype=object)"
      ]
     },
     "execution_count": 17,
     "metadata": {},
     "output_type": "execute_result"
    }
   ],
   "source": [
    "df_practicum['card_price'].unique()"
   ]
  },
  {
   "cell_type": "code",
   "execution_count": 18,
   "metadata": {
    "id": "S3PGEAbVlBPZ"
   },
   "outputs": [],
   "source": [
    "def parse_price(s):\n",
    "    if s is None:\n",
    "        return 0\n",
    "    for i in s.split():\n",
    "        j = i.replace('₽', '')\n",
    "        if j.isnumeric():\n",
    "            return int(j)\n",
    "    print(s)\n",
    "    return 0"
   ]
  },
  {
   "cell_type": "code",
   "execution_count": 19,
   "metadata": {
    "id": "s-FtwcoZl2vk"
   },
   "outputs": [],
   "source": [
    "df_practicum['is_paid'] = df_practicum['card_price'].apply(lambda x: False if x == 'Бесплатно ' else True)"
   ]
  },
  {
   "cell_type": "code",
   "execution_count": 20,
   "metadata": {
    "colab": {
     "base_uri": "https://localhost:8080/"
    },
    "id": "2YfjkC26jA-C",
    "outputId": "6936522a-5ef4-4e7f-c733-e6010ce78e27"
   },
   "outputs": [
    {
     "name": "stdout",
     "output_type": "stream",
     "text": [
      " \n"
     ]
    }
   ],
   "source": [
    "df_practicum.loc[:, 'full_price'] = df_practicum['full_price'].apply(parse_price)"
   ]
  },
  {
   "cell_type": "code",
   "execution_count": 21,
   "metadata": {
    "id": "hKSZzMnal5rc"
   },
   "outputs": [],
   "source": [
    "df_practicum.drop(['card_price'], axis=1, inplace=True)"
   ]
  },
  {
   "cell_type": "code",
   "execution_count": 22,
   "metadata": {
    "colab": {
     "base_uri": "https://localhost:8080/",
     "height": 423
    },
    "id": "u1ZuHlOJjxCx",
    "outputId": "f45843a7-ec0f-4d4a-f174-7e5184fa490d"
   },
   "outputs": [
    {
     "data": {
      "text/html": [
       "<div>\n",
       "<style scoped>\n",
       "    .dataframe tbody tr th:only-of-type {\n",
       "        vertical-align: middle;\n",
       "    }\n",
       "\n",
       "    .dataframe tbody tr th {\n",
       "        vertical-align: top;\n",
       "    }\n",
       "\n",
       "    .dataframe thead th {\n",
       "        text-align: right;\n",
       "    }\n",
       "</style>\n",
       "<table border=\"1\" class=\"dataframe\">\n",
       "  <thead>\n",
       "    <tr style=\"text-align: right;\">\n",
       "      <th></th>\n",
       "      <th>tags</th>\n",
       "      <th>title</th>\n",
       "      <th>full_price</th>\n",
       "      <th>source</th>\n",
       "      <th>is_paid</th>\n",
       "    </tr>\n",
       "  </thead>\n",
       "  <tbody>\n",
       "    <tr>\n",
       "      <th>7</th>\n",
       "      <td>[Программирование, 10 месяцев, С нуля]</td>\n",
       "      <td>Фронтенд-разработчик</td>\n",
       "      <td>147000</td>\n",
       "      <td>practicum</td>\n",
       "      <td>True</td>\n",
       "    </tr>\n",
       "    <tr>\n",
       "      <th>8</th>\n",
       "      <td>[Программирование, 16 месяцев, С нуля]</td>\n",
       "      <td>Фулстек-разработчик</td>\n",
       "      <td>225000</td>\n",
       "      <td>practicum</td>\n",
       "      <td>True</td>\n",
       "    </tr>\n",
       "    <tr>\n",
       "      <th>9</th>\n",
       "      <td>[Программирование, 10 месяцев, С нуля]</td>\n",
       "      <td>Python-разработчик</td>\n",
       "      <td>159000</td>\n",
       "      <td>practicum</td>\n",
       "      <td>True</td>\n",
       "    </tr>\n",
       "    <tr>\n",
       "      <th>10</th>\n",
       "      <td>[Программирование, 14 месяцев, С нуля]</td>\n",
       "      <td>Python-разработчик расширенный</td>\n",
       "      <td>226000</td>\n",
       "      <td>practicum</td>\n",
       "      <td>True</td>\n",
       "    </tr>\n",
       "    <tr>\n",
       "      <th>11</th>\n",
       "      <td>[Программирование, 5 месяцев, С нуля]</td>\n",
       "      <td>Инженер по тестированию</td>\n",
       "      <td>77000</td>\n",
       "      <td>practicum</td>\n",
       "      <td>True</td>\n",
       "    </tr>\n",
       "    <tr>\n",
       "      <th>...</th>\n",
       "      <td>...</td>\n",
       "      <td>...</td>\n",
       "      <td>...</td>\n",
       "      <td>...</td>\n",
       "      <td>...</td>\n",
       "    </tr>\n",
       "    <tr>\n",
       "      <th>156</th>\n",
       "      <td>[Программирование, 4 месяца, С опытом]</td>\n",
       "      <td>Мидл разработчик С++</td>\n",
       "      <td>125000</td>\n",
       "      <td>practicum</td>\n",
       "      <td>True</td>\n",
       "    </tr>\n",
       "    <tr>\n",
       "      <th>157</th>\n",
       "      <td>[Программирование, 6 месяцев, С опытом]</td>\n",
       "      <td>Мидл Python-разработчик: индивидуальные проекты</td>\n",
       "      <td>173000</td>\n",
       "      <td>practicum</td>\n",
       "      <td>True</td>\n",
       "    </tr>\n",
       "    <tr>\n",
       "      <th>158</th>\n",
       "      <td>[Программирование, 22 месяца, С опытом, С нуля...</td>\n",
       "      <td>Онлайн-магистратура «Фронтенд- и бэкенд-разраб...</td>\n",
       "      <td>0</td>\n",
       "      <td>practicum</td>\n",
       "      <td>True</td>\n",
       "    </tr>\n",
       "    <tr>\n",
       "      <th>159</th>\n",
       "      <td>[Менеджмент, 22 месяца, С нуля, Высшее образов...</td>\n",
       "      <td>Онлайн-магистратура «Управление IT-продуктами»</td>\n",
       "      <td>0</td>\n",
       "      <td>practicum</td>\n",
       "      <td>True</td>\n",
       "    </tr>\n",
       "    <tr>\n",
       "      <th>160</th>\n",
       "      <td>[Анализ данных, 22 месяца, Высшее образование,...</td>\n",
       "      <td>Онлайн-магистратура «Науки о данных и искусств...</td>\n",
       "      <td>0</td>\n",
       "      <td>practicum</td>\n",
       "      <td>True</td>\n",
       "    </tr>\n",
       "  </tbody>\n",
       "</table>\n",
       "<p>138 rows × 5 columns</p>\n",
       "</div>"
      ],
      "text/plain": [
       "                                                  tags  \\\n",
       "7               [Программирование, 10 месяцев, С нуля]   \n",
       "8               [Программирование, 16 месяцев, С нуля]   \n",
       "9               [Программирование, 10 месяцев, С нуля]   \n",
       "10              [Программирование, 14 месяцев, С нуля]   \n",
       "11               [Программирование, 5 месяцев, С нуля]   \n",
       "..                                                 ...   \n",
       "156             [Программирование, 4 месяца, С опытом]   \n",
       "157            [Программирование, 6 месяцев, С опытом]   \n",
       "158  [Программирование, 22 месяца, С опытом, С нуля...   \n",
       "159  [Менеджмент, 22 месяца, С нуля, Высшее образов...   \n",
       "160  [Анализ данных, 22 месяца, Высшее образование,...   \n",
       "\n",
       "                                                 title full_price     source  \\\n",
       "7                                 Фронтенд-разработчик     147000  practicum   \n",
       "8                                  Фулстек-разработчик     225000  practicum   \n",
       "9                                   Python-разработчик     159000  practicum   \n",
       "10                      Python-разработчик расширенный     226000  practicum   \n",
       "11                             Инженер по тестированию      77000  practicum   \n",
       "..                                                 ...        ...        ...   \n",
       "156                               Мидл разработчик С++     125000  practicum   \n",
       "157    Мидл Python-разработчик: индивидуальные проекты     173000  practicum   \n",
       "158  Онлайн-магистратура «Фронтенд- и бэкенд-разраб...          0  practicum   \n",
       "159     Онлайн-магистратура «Управление IT-продуктами»          0  practicum   \n",
       "160  Онлайн-магистратура «Науки о данных и искусств...          0  practicum   \n",
       "\n",
       "     is_paid  \n",
       "7       True  \n",
       "8       True  \n",
       "9       True  \n",
       "10      True  \n",
       "11      True  \n",
       "..       ...  \n",
       "156     True  \n",
       "157     True  \n",
       "158     True  \n",
       "159     True  \n",
       "160     True  \n",
       "\n",
       "[138 rows x 5 columns]"
      ]
     },
     "execution_count": 22,
     "metadata": {},
     "output_type": "execute_result"
    }
   ],
   "source": [
    "df_practicum[df_practicum['is_paid'] == True]"
   ]
  },
  {
   "cell_type": "code",
   "execution_count": 23,
   "metadata": {
    "id": "u2UDvXQ7hfB4"
   },
   "outputs": [],
   "source": [
    "rename_practicum = {\n",
    "    'tags': 'tags_text',\n",
    "    'full_price': 'display_price'\n",
    "}\n",
    "\n",
    "df_practicum.rename(columns=rename_practicum, inplace=True)"
   ]
  },
  {
   "cell_type": "code",
   "execution_count": 24,
   "metadata": {
    "colab": {
     "base_uri": "https://localhost:8080/"
    },
    "id": "-bdm6F5wnuT8",
    "outputId": "4a3b3c2e-1432-4475-c0fc-76ae483c29ad"
   },
   "outputs": [
    {
     "data": {
      "text/plain": [
       "(12205, 137)"
      ]
     },
     "execution_count": 24,
     "metadata": {},
     "output_type": "execute_result"
    }
   ],
   "source": [
    "df_all = pd.concat([df_stepik_coursera, df_practicum], ignore_index=True)\n",
    "\n",
    "df_all.shape"
   ]
  },
  {
   "cell_type": "code",
   "execution_count": 25,
   "metadata": {
    "colab": {
     "base_uri": "https://localhost:8080/",
     "height": 209
    },
    "id": "m-5op7KEoNpJ",
    "outputId": "c1f23934-3f8d-4ff6-81c1-ced480a60725"
   },
   "outputs": [
    {
     "data": {
      "text/plain": [
       "source\n",
       "stepik       10044\n",
       "coursera      2000\n",
       "practicum      161\n",
       "Name: count, dtype: int64"
      ]
     },
     "execution_count": 25,
     "metadata": {},
     "output_type": "execute_result"
    }
   ],
   "source": [
    "df_all['source'].value_counts()"
   ]
  },
  {
   "cell_type": "code",
   "execution_count": 27,
   "metadata": {
    "id": "P-6Et60HqN3N"
   },
   "outputs": [],
   "source": [
    "df_all.to_csv('data_full.csv', index=True)"
   ]
  }
 ],
 "metadata": {
  "colab": {
   "provenance": [],
   "toc_visible": true
  },
  "kernelspec": {
   "display_name": "Python 3 (ipykernel)",
   "language": "python",
   "name": "python3"
  },
  "language_info": {
   "codemirror_mode": {
    "name": "ipython",
    "version": 3
   },
   "file_extension": ".py",
   "mimetype": "text/x-python",
   "name": "python",
   "nbconvert_exporter": "python",
   "pygments_lexer": "ipython3",
   "version": "3.10.6"
  }
 },
 "nbformat": 4,
 "nbformat_minor": 4
}
